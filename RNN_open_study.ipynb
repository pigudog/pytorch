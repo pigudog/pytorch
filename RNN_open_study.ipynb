{
 "cells": [
  {
   "cell_type": "code",
   "execution_count": null,
   "metadata": {},
   "outputs": [],
   "source": []
  }
 ],
 "metadata": {
  "kernelspec": {
   "display_name": "Python 3.10.6 64-bit",
   "language": "python",
   "name": "python3"
  },
  "language_info": {
   "name": "python",
   "version": "3.10.6"
  },
  "orig_nbformat": 4,
  "vscode": {
   "interpreter": {
    "hash": "e12f081f3b69c47b407a411e35ba4814a2bf694e6a041dab3adb1673ea66113c"
   }
  }
 },
 "nbformat": 4,
 "nbformat_minor": 2
}
