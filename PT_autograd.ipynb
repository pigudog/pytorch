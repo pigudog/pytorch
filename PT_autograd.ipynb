{
 "cells": [
  {
   "cell_type": "code",
   "execution_count": 2,
   "metadata": {},
   "outputs": [
    {
     "name": "stderr",
     "output_type": "stream",
     "text": [
      "e:\\download\\python\\lib\\site-packages\\tqdm\\auto.py:22: TqdmWarning: IProgress not found. Please update jupyter and ipywidgets. See https://ipywidgets.readthedocs.io/en/stable/user_install.html\n",
      "  from .autonotebook import tqdm as notebook_tqdm\n"
     ]
    }
   ],
   "source": [
    "import torch"
   ]
  },
  {
   "cell_type": "markdown",
   "metadata": {},
   "source": [
    "## 框架真正厉害的点？\n",
    "可以帮我们把反向传播全部计算好"
   ]
  },
  {
   "cell_type": "code",
   "execution_count": 3,
   "metadata": {},
   "outputs": [
    {
     "data": {
      "text/plain": [
       "tensor([[ 0.8091, -1.8436, -1.2494, -0.2183],\n",
       "        [-0.6858,  0.4545,  0.3285, -0.2726],\n",
       "        [-0.2179,  1.2607, -0.5618,  0.5449]], requires_grad=True)"
      ]
     },
     "execution_count": 3,
     "metadata": {},
     "output_type": "execute_result"
    }
   ],
   "source": [
    "# Method 1 - recommended\n",
    "x = torch.randn(3,4,requires_grad=True)\n",
    "x"
   ]
  },
  {
   "cell_type": "code",
   "execution_count": 4,
   "metadata": {},
   "outputs": [
    {
     "data": {
      "text/plain": [
       "tensor([[-0.2327, -0.3821, -0.9949,  1.0545],\n",
       "        [-0.2377, -1.7463, -0.9274,  1.5329],\n",
       "        [ 2.4034,  0.3413, -0.3257, -1.0697]], requires_grad=True)"
      ]
     },
     "execution_count": 4,
     "metadata": {},
     "output_type": "execute_result"
    }
   ],
   "source": [
    "# Method 2\n",
    "x = torch.randn(3,4)\n",
    "x.requires_grad = True\n",
    "x"
   ]
  },
  {
   "cell_type": "code",
   "execution_count": 5,
   "metadata": {},
   "outputs": [
    {
     "data": {
      "text/plain": [
       "tensor([[-0.2633,  0.1450, -1.7550, -0.4044],\n",
       "        [-0.7042,  0.8514,  2.0842, -0.7278],\n",
       "        [ 1.4476,  1.7176, -1.1932,  0.8953]], requires_grad=True)"
      ]
     },
     "execution_count": 5,
     "metadata": {},
     "output_type": "execute_result"
    }
   ],
   "source": [
    "b = torch.randn(3,4,requires_grad=True)\n",
    "b"
   ]
  },
  {
   "cell_type": "code",
   "execution_count": 6,
   "metadata": {},
   "outputs": [
    {
     "data": {
      "text/plain": [
       "tensor([[-0.4959, -0.2371, -2.7500,  0.6501],\n",
       "        [-0.9419, -0.8949,  1.1569,  0.8051],\n",
       "        [ 3.8510,  2.0589, -1.5190, -0.1743]], grad_fn=<AddBackward0>)"
      ]
     },
     "execution_count": 6,
     "metadata": {},
     "output_type": "execute_result"
    }
   ],
   "source": [
    "t = x+b\n",
    "t"
   ]
  },
  {
   "cell_type": "code",
   "execution_count": 7,
   "metadata": {},
   "outputs": [
    {
     "data": {
      "text/plain": [
       "tensor(1.5087, grad_fn=<SumBackward0>)"
      ]
     },
     "execution_count": 7,
     "metadata": {},
     "output_type": "execute_result"
    }
   ],
   "source": [
    "y = t.sum()\n",
    "y"
   ]
  },
  {
   "cell_type": "code",
   "execution_count": 8,
   "metadata": {},
   "outputs": [
    {
     "data": {
      "text/plain": [
       "tensor(1.5087, grad_fn=<SumBackward0>)"
      ]
     },
     "execution_count": 8,
     "metadata": {},
     "output_type": "execute_result"
    }
   ],
   "source": [
    "y.backward()\n",
    "y"
   ]
  },
  {
   "cell_type": "code",
   "execution_count": 9,
   "metadata": {},
   "outputs": [
    {
     "data": {
      "text/plain": [
       "tensor([[1., 1., 1., 1.],\n",
       "        [1., 1., 1., 1.],\n",
       "        [1., 1., 1., 1.]])"
      ]
     },
     "execution_count": 9,
     "metadata": {},
     "output_type": "execute_result"
    }
   ],
   "source": [
    "b.grad\n",
    "## 这儿的变量就是b，一元一次函数求导"
   ]
  },
  {
   "cell_type": "markdown",
   "metadata": {},
   "source": [
    "虽然没有指定t的required_grad但是需要用到它，也会默认的"
   ]
  },
  {
   "cell_type": "code",
   "execution_count": 10,
   "metadata": {},
   "outputs": [
    {
     "data": {
      "text/plain": [
       "(True, True, True)"
      ]
     },
     "execution_count": 10,
     "metadata": {},
     "output_type": "execute_result"
    }
   ],
   "source": [
    "x.requires_grad,b.requires_grad,t.requires_grad"
   ]
  },
  {
   "cell_type": "code",
   "execution_count": 11,
   "metadata": {},
   "outputs": [],
   "source": [
    "# calculate flow - example \n",
    "x = torch.rand(1)\n",
    "y = torch.rand(1)\n",
    "w = torch.rand(1,requires_grad=True)\n",
    "y = w*x\n",
    "z = y+b"
   ]
  },
  {
   "cell_type": "code",
   "execution_count": 12,
   "metadata": {},
   "outputs": [
    {
     "data": {
      "text/plain": [
       "(False, True, True)"
      ]
     },
     "execution_count": 12,
     "metadata": {},
     "output_type": "execute_result"
    }
   ],
   "source": [
    "# check autograde\n",
    "x.requires_grad,b.requires_grad,w.requires_grad"
   ]
  },
  {
   "cell_type": "code",
   "execution_count": 13,
   "metadata": {},
   "outputs": [],
   "source": [
    "## again\n",
    "x = torch.rand(1)\n",
    "b = torch.rand(1,requires_grad=True)\n",
    "w = torch.rand(1,requires_grad=True)\n",
    "y = w*x\n",
    "z = y+b"
   ]
  },
  {
   "cell_type": "code",
   "execution_count": 14,
   "metadata": {},
   "outputs": [
    {
     "data": {
      "text/plain": [
       "(False, True, True, True)"
      ]
     },
     "execution_count": 14,
     "metadata": {},
     "output_type": "execute_result"
    }
   ],
   "source": [
    "# check autograde\n",
    "x.requires_grad,b.requires_grad,w.requires_grad,y.requires_grad # y is needed"
   ]
  },
  {
   "cell_type": "code",
   "execution_count": 15,
   "metadata": {},
   "outputs": [
    {
     "data": {
      "text/plain": [
       "(True, True, True, False, False)"
      ]
     },
     "execution_count": 15,
     "metadata": {},
     "output_type": "execute_result"
    }
   ],
   "source": [
    "x.is_leaf,w.is_leaf,b.is_leaf,y.is_leaf,z.is_leaf\n",
    "# z = wx+b,是否为叶子结点"
   ]
  },
  {
   "cell_type": "code",
   "execution_count": 16,
   "metadata": {},
   "outputs": [],
   "source": [
    "# back propagation\n",
    "z.backward(retain_graph=True) # 注意，如果不清空梯度会累加起来\n"
   ]
  },
  {
   "cell_type": "code",
   "execution_count": 17,
   "metadata": {},
   "outputs": [
    {
     "data": {
      "text/plain": [
       "tensor([0.5140])"
      ]
     },
     "execution_count": 17,
     "metadata": {},
     "output_type": "execute_result"
    }
   ],
   "source": [
    "w.grad"
   ]
  },
  {
   "cell_type": "code",
   "execution_count": 18,
   "metadata": {},
   "outputs": [
    {
     "data": {
      "text/plain": [
       "tensor([1.])"
      ]
     },
     "execution_count": 18,
     "metadata": {},
     "output_type": "execute_result"
    }
   ],
   "source": [
    "b.grad"
   ]
  },
  {
   "cell_type": "markdown",
   "metadata": {},
   "source": [
    "线性回归试水"
   ]
  },
  {
   "cell_type": "code",
   "execution_count": 19,
   "metadata": {},
   "outputs": [
    {
     "data": {
      "text/plain": [
       "(11, 1)"
      ]
     },
     "execution_count": 19,
     "metadata": {},
     "output_type": "execute_result"
    }
   ],
   "source": [
    "# 构造一组输入数据X与对应的标签Y\n",
    "import numpy as np\n",
    "x_values = [i for i in range(11)]\n",
    "x_train  = np.array(x_values,dtype = np.float32)\n",
    "x_train = x_train.reshape(-1,1)\n",
    "x_train.shape"
   ]
  },
  {
   "cell_type": "code",
   "execution_count": 20,
   "metadata": {},
   "outputs": [
    {
     "data": {
      "text/plain": [
       "(11, 1)"
      ]
     },
     "execution_count": 20,
     "metadata": {},
     "output_type": "execute_result"
    }
   ],
   "source": [
    "import numpy as np\n",
    "y_values = [2*i+1 for i in range(11)]\n",
    "y_train = np.array(y_values,dtype=np.float32)\n",
    "y_train = y_train.reshape(-1,1)\n",
    "y_train.shape"
   ]
  },
  {
   "cell_type": "code",
   "execution_count": 21,
   "metadata": {},
   "outputs": [],
   "source": [
    "import torch \n",
    "import torch.nn as nn"
   ]
  },
  {
   "cell_type": "markdown",
   "metadata": {},
   "source": [
    "线性回归模型"
   ]
  },
  {
   "cell_type": "code",
   "execution_count": 22,
   "metadata": {},
   "outputs": [],
   "source": [
    "# 线性回归就是不添加激活函数的全连接层\n",
    "class LinearRegressionModel(nn.Module): # 定义了类的名字为LinearRegressionModel,继承了父类nn.Module\n",
    "    def __init__(self,input_dim,output_dim): # 实例self从父类继承属性input_dim,output_dim\n",
    "        super(LinearRegressionModel,self).__init__() # super,可以简单地理解为执行父类的__init__函数，\n",
    "        # 也就是初始化父类，这样才能访问父类的成员\n",
    "        self.linear = nn.Linear(input_dim,output_dim)\n",
    "        \n",
    "    def forward(self,x):\n",
    "        out = self.linear(x)\n",
    "        return out"
   ]
  },
  {
   "cell_type": "code",
   "execution_count": 23,
   "metadata": {},
   "outputs": [],
   "source": [
    "input_dim = 1\n",
    "output_dim = 1\n",
    "\n",
    "model = LinearRegressionModel(input_dim,output_dim,)"
   ]
  },
  {
   "cell_type": "code",
   "execution_count": 24,
   "metadata": {},
   "outputs": [
    {
     "data": {
      "text/plain": [
       "LinearRegressionModel(\n",
       "  (linear): Linear(in_features=1, out_features=1, bias=True)\n",
       ")"
      ]
     },
     "execution_count": 24,
     "metadata": {},
     "output_type": "execute_result"
    }
   ],
   "source": [
    "model"
   ]
  },
  {
   "cell_type": "code",
   "execution_count": 25,
   "metadata": {},
   "outputs": [],
   "source": [
    "# 制定好参数和损失函数\n",
    "epochs = 1000\n",
    "learning_rate = 0.01\n",
    "optimizer = torch.optim.SGD(model.parameters(),lr=learning_rate)\n",
    "criterion = nn.MSELoss()\n",
    "# 一般分类任务是交叉熵，回归任务mse，也就是mean square error"
   ]
  },
  {
   "cell_type": "code",
   "execution_count": 26,
   "metadata": {},
   "outputs": [
    {
     "name": "stdout",
     "output_type": "stream",
     "text": [
      "epoch 50,loss 0.006575658451765776\n",
      "epoch 100,loss 0.003750476287677884\n",
      "epoch 150,loss 0.0021391164045780897\n",
      "epoch 200,loss 0.0012200846103951335\n",
      "epoch 250,loss 0.000695887312758714\n",
      "epoch 300,loss 0.0003969058452639729\n",
      "epoch 350,loss 0.00022637330403085798\n",
      "epoch 400,loss 0.00012911540397908539\n",
      "epoch 450,loss 7.364393241005018e-05\n",
      "epoch 500,loss 4.2005183786386624e-05\n",
      "epoch 550,loss 2.395801857346669e-05\n",
      "epoch 600,loss 1.3664072866959032e-05\n",
      "epoch 650,loss 7.794496923452243e-06\n",
      "epoch 700,loss 4.445927061169641e-06\n",
      "epoch 750,loss 2.5357885533594526e-06\n",
      "epoch 800,loss 1.4462606259257882e-06\n",
      "epoch 850,loss 8.251524832303403e-07\n",
      "epoch 900,loss 4.705849505626247e-07\n",
      "epoch 950,loss 2.684837738797796e-07\n",
      "epoch 1000,loss 1.5291207944301277e-07\n"
     ]
    }
   ],
   "source": [
    "# 训练模型\n",
    "for epoch in range(epochs):\n",
    "    epoch+=1\n",
    "    # 注意转为tensor\n",
    "    inputs = torch.tensor(x_train)\n",
    "    labels = torch.tensor(y_train)\n",
    "    \n",
    "    # 梯度要清零每一次迭代\n",
    "    optimizer.zero_grad()\n",
    "    \n",
    "    # 前向传播\n",
    "    outputs = model(inputs)\n",
    "    \n",
    "    # 计算损失\n",
    "    loss = criterion(outputs,labels)\n",
    "    \n",
    "    # 返回传播\n",
    "    loss.backward()\n",
    "    \n",
    "    # 更新权重\n",
    "    optimizer.step()\n",
    "    \n",
    "    if epoch % 50 == 0:\n",
    "        print(\"epoch {},loss {}\".format(epoch,loss.item()))\n",
    "    \n",
    "    \n",
    "    "
   ]
  },
  {
   "cell_type": "code",
   "execution_count": 27,
   "metadata": {},
   "outputs": [
    {
     "data": {
      "text/plain": [
       "array([[ 1.0007278],\n",
       "       [ 3.000623 ],\n",
       "       [ 5.0005183],\n",
       "       [ 7.0004134],\n",
       "       [ 9.000309 ],\n",
       "       [11.000204 ],\n",
       "       [13.000099 ],\n",
       "       [14.999994 ],\n",
       "       [16.99989  ],\n",
       "       [18.999786 ],\n",
       "       [20.999681 ]], dtype=float32)"
      ]
     },
     "execution_count": 27,
     "metadata": {},
     "output_type": "execute_result"
    }
   ],
   "source": [
    "# 检测模型预测结果\n",
    "predicted = model(torch.from_numpy(x_train).requires_grad_()).data.numpy()\n",
    "predicted"
   ]
  },
  {
   "cell_type": "code",
   "execution_count": 28,
   "metadata": {},
   "outputs": [],
   "source": [
    "# 模型的保存和读取\n",
    "torch.save(model.state_dict(),\"model.pkl\")"
   ]
  },
  {
   "cell_type": "code",
   "execution_count": 29,
   "metadata": {},
   "outputs": [
    {
     "data": {
      "text/plain": [
       "<All keys matched successfully>"
      ]
     },
     "execution_count": 29,
     "metadata": {},
     "output_type": "execute_result"
    }
   ],
   "source": [
    "model.load_state_dict(torch.load(\"model.pkl\"))"
   ]
  },
  {
   "cell_type": "markdown",
   "metadata": {},
   "source": [
    "# 使用GPU进行训练\n",
    "只需要将数据和模型传到cuda里面就可以了"
   ]
  },
  {
   "cell_type": "code",
   "execution_count": 33,
   "metadata": {},
   "outputs": [
    {
     "data": {
      "text/plain": [
       "False"
      ]
     },
     "execution_count": 33,
     "metadata": {},
     "output_type": "execute_result"
    }
   ],
   "source": [
    "# 先检验一下啊gpu可不可以用哈哈\n",
    "torch.cuda.is_available()\n"
   ]
  },
  {
   "cell_type": "code",
   "execution_count": 32,
   "metadata": {},
   "outputs": [
    {
     "name": "stdout",
     "output_type": "stream",
     "text": [
      "epoch 50,loss 0.2602664828300476\n",
      "epoch 100,loss 0.1484462320804596\n",
      "epoch 150,loss 0.08466830849647522\n",
      "epoch 200,loss 0.04829154163599014\n",
      "epoch 250,loss 0.027543742209672928\n",
      "epoch 300,loss 0.015709955245256424\n",
      "epoch 350,loss 0.008960350416600704\n",
      "epoch 400,loss 0.005110647529363632\n",
      "epoch 450,loss 0.002914928598329425\n",
      "epoch 500,loss 0.0016625456046313047\n",
      "epoch 550,loss 0.0009482643217779696\n",
      "epoch 600,loss 0.0005408604047261178\n",
      "epoch 650,loss 0.0003084798518102616\n",
      "epoch 700,loss 0.00017594677046872675\n",
      "epoch 750,loss 0.00010034978186013177\n",
      "epoch 800,loss 5.7235025451518595e-05\n",
      "epoch 850,loss 3.264545739511959e-05\n",
      "epoch 900,loss 1.8619555703480728e-05\n",
      "epoch 950,loss 1.061913735611597e-05\n",
      "epoch 1000,loss 6.057673090253957e-06\n"
     ]
    }
   ],
   "source": [
    "import torch\n",
    "import torch.nn as nn\n",
    "import numpy as np\n",
    "\n",
    "class LinearRegressionModel(nn.Module):\n",
    "    def __init__(self,input_dim,output_dim):\n",
    "        super(LinearRegressionModel,self).__init__()\n",
    "        self.linear = nn.Linear(input_dim,output_dim)\n",
    "    \n",
    "    def forward(self,x):\n",
    "        out = self.linear(x)\n",
    "        return out\n",
    "    \n",
    "input_dim = 1 \n",
    "output_dim =1 \n",
    "\n",
    "model = LinearRegressionModel(input_dim,output_dim)\n",
    "\n",
    "# 搜寻我们的torch的device，主义cuda：0 与cuda 对于单卡玩家是没有区别的\n",
    "device = torch.device(\"cuda:0\" if torch.cuda.is_available() else \"cpu\")\n",
    "model.to(device)\n",
    "\n",
    "criterion = nn.MSELoss()\n",
    "\n",
    "learning_rate = 0.01\n",
    "\n",
    "optimizer = torch.optim.SGD(model.parameters(),lr=learning_rate)\n",
    "\n",
    "epoches = 1000\n",
    "\n",
    "for epoch in range(epochs):\n",
    "    epoch+=1\n",
    "    # 注意转为tensor\n",
    "    inputs = torch.tensor(x_train)\n",
    "    labels = torch.tensor(y_train)\n",
    "    \n",
    "    # 梯度要清零每一次迭代\n",
    "    optimizer.zero_grad()\n",
    "    \n",
    "    # 前向传播\n",
    "    outputs = model(inputs)\n",
    "    \n",
    "    # 计算损失\n",
    "    loss = criterion(outputs,labels)\n",
    "    \n",
    "    # 返回传播\n",
    "    loss.backward()\n",
    "    \n",
    "    # 更新权重\n",
    "    optimizer.step()\n",
    "    \n",
    "    if epoch % 50 == 0:\n",
    "        print(\"epoch {},loss {}\".format(epoch,loss.item()))\n",
    "    \n",
    "\n"
   ]
  }
 ],
 "metadata": {
  "kernelspec": {
   "display_name": "Python 3.10.5 64-bit",
   "language": "python",
   "name": "python3"
  },
  "language_info": {
   "codemirror_mode": {
    "name": "ipython",
    "version": 3
   },
   "file_extension": ".py",
   "mimetype": "text/x-python",
   "name": "python",
   "nbconvert_exporter": "python",
   "pygments_lexer": "ipython3",
   "version": "3.10.5"
  },
  "orig_nbformat": 4,
  "vscode": {
   "interpreter": {
    "hash": "537b928a382ecc1da1b2ff4d48d3aa27b392cceaea5676c08c31c2fea16f125b"
   }
  }
 },
 "nbformat": 4,
 "nbformat_minor": 2
}
