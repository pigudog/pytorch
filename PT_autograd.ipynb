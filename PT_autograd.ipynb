{
 "cells": [
  {
   "cell_type": "code",
   "execution_count": 105,
   "metadata": {},
   "outputs": [],
   "source": [
    "import torch"
   ]
  },
  {
   "cell_type": "markdown",
   "metadata": {},
   "source": [
    "## 框架真正厉害的点？\n",
    "可以帮我们把反向传播全部计算好"
   ]
  },
  {
   "cell_type": "code",
   "execution_count": 106,
   "metadata": {},
   "outputs": [
    {
     "data": {
      "text/plain": [
       "tensor([[-0.6056, -0.1987,  1.2353, -0.8875],\n",
       "        [ 0.8571, -1.8104, -0.6508,  0.2827],\n",
       "        [-1.3963,  1.0834,  1.4556,  2.0931]], requires_grad=True)"
      ]
     },
     "execution_count": 106,
     "metadata": {},
     "output_type": "execute_result"
    }
   ],
   "source": [
    "# Method 1 - recommended\n",
    "x = torch.randn(3,4,requires_grad=True)\n",
    "x"
   ]
  },
  {
   "cell_type": "code",
   "execution_count": 107,
   "metadata": {},
   "outputs": [
    {
     "data": {
      "text/plain": [
       "tensor([[ 1.0173,  0.1515, -0.7902, -0.2386],\n",
       "        [ 1.3049, -0.0285, -0.4235, -1.7789],\n",
       "        [ 1.1662, -1.9275, -0.8774, -0.6667]], requires_grad=True)"
      ]
     },
     "execution_count": 107,
     "metadata": {},
     "output_type": "execute_result"
    }
   ],
   "source": [
    "# Method 2\n",
    "x = torch.randn(3,4)\n",
    "x.requires_grad = True\n",
    "x"
   ]
  },
  {
   "cell_type": "code",
   "execution_count": 108,
   "metadata": {},
   "outputs": [
    {
     "data": {
      "text/plain": [
       "tensor([[-0.0529,  1.0883,  0.1806,  1.0977],\n",
       "        [ 0.0970, -0.6448,  2.5271,  1.1046],\n",
       "        [-1.0558,  0.2420, -1.5023, -0.4641]], requires_grad=True)"
      ]
     },
     "execution_count": 108,
     "metadata": {},
     "output_type": "execute_result"
    }
   ],
   "source": [
    "b = torch.randn(3,4,requires_grad=True)\n",
    "b"
   ]
  },
  {
   "cell_type": "code",
   "execution_count": 109,
   "metadata": {},
   "outputs": [
    {
     "data": {
      "text/plain": [
       "tensor([[ 0.9644,  1.2398, -0.6096,  0.8592],\n",
       "        [ 1.4019, -0.6733,  2.1036, -0.6743],\n",
       "        [ 0.1105, -1.6855, -2.3797, -1.1308]], grad_fn=<AddBackward0>)"
      ]
     },
     "execution_count": 109,
     "metadata": {},
     "output_type": "execute_result"
    }
   ],
   "source": [
    "t = x+b\n",
    "t"
   ]
  },
  {
   "cell_type": "code",
   "execution_count": 110,
   "metadata": {},
   "outputs": [
    {
     "data": {
      "text/plain": [
       "tensor(-0.4738, grad_fn=<SumBackward0>)"
      ]
     },
     "execution_count": 110,
     "metadata": {},
     "output_type": "execute_result"
    }
   ],
   "source": [
    "y = t.sum()\n",
    "y"
   ]
  },
  {
   "cell_type": "code",
   "execution_count": 111,
   "metadata": {},
   "outputs": [
    {
     "data": {
      "text/plain": [
       "tensor(-0.4738, grad_fn=<SumBackward0>)"
      ]
     },
     "execution_count": 111,
     "metadata": {},
     "output_type": "execute_result"
    }
   ],
   "source": [
    "y.backward()\n",
    "y"
   ]
  },
  {
   "cell_type": "code",
   "execution_count": 112,
   "metadata": {},
   "outputs": [
    {
     "data": {
      "text/plain": [
       "tensor([[1., 1., 1., 1.],\n",
       "        [1., 1., 1., 1.],\n",
       "        [1., 1., 1., 1.]])"
      ]
     },
     "execution_count": 112,
     "metadata": {},
     "output_type": "execute_result"
    }
   ],
   "source": [
    "b.grad\n",
    "## 这儿的变量就是b，一元一次函数求导"
   ]
  },
  {
   "cell_type": "markdown",
   "metadata": {},
   "source": [
    "虽然没有指定t的required_grad但是需要用到它，也会默认的"
   ]
  },
  {
   "cell_type": "code",
   "execution_count": 113,
   "metadata": {},
   "outputs": [
    {
     "data": {
      "text/plain": [
       "(True, True, True)"
      ]
     },
     "execution_count": 113,
     "metadata": {},
     "output_type": "execute_result"
    }
   ],
   "source": [
    "x.requires_grad,b.requires_grad,t.requires_grad"
   ]
  },
  {
   "cell_type": "code",
   "execution_count": 114,
   "metadata": {},
   "outputs": [],
   "source": [
    "# calculate flow - example \n",
    "x = torch.rand(1)\n",
    "y = torch.rand(1)\n",
    "w = torch.rand(1,requires_grad=True)\n",
    "y = w*x\n",
    "z = y+b"
   ]
  },
  {
   "cell_type": "code",
   "execution_count": 115,
   "metadata": {},
   "outputs": [
    {
     "data": {
      "text/plain": [
       "(False, True, True)"
      ]
     },
     "execution_count": 115,
     "metadata": {},
     "output_type": "execute_result"
    }
   ],
   "source": [
    "# check autograde\n",
    "x.requires_grad,b.requires_grad,w.requires_grad"
   ]
  },
  {
   "cell_type": "code",
   "execution_count": 116,
   "metadata": {},
   "outputs": [],
   "source": [
    "## again\n",
    "x = torch.rand(1)\n",
    "b = torch.rand(1,requires_grad=True)\n",
    "w = torch.rand(1,requires_grad=True)\n",
    "y = w*x\n",
    "z = y+b"
   ]
  },
  {
   "cell_type": "code",
   "execution_count": 117,
   "metadata": {},
   "outputs": [
    {
     "data": {
      "text/plain": [
       "(False, True, True, True)"
      ]
     },
     "execution_count": 117,
     "metadata": {},
     "output_type": "execute_result"
    }
   ],
   "source": [
    "# check autograde\n",
    "x.requires_grad,b.requires_grad,w.requires_grad,y.requires_grad # y is needed"
   ]
  },
  {
   "cell_type": "code",
   "execution_count": 118,
   "metadata": {},
   "outputs": [
    {
     "data": {
      "text/plain": [
       "(True, True, True, False, False)"
      ]
     },
     "execution_count": 118,
     "metadata": {},
     "output_type": "execute_result"
    }
   ],
   "source": [
    "x.is_leaf,w.is_leaf,b.is_leaf,y.is_leaf,z.is_leaf\n",
    "# z = wx+b,是否为叶子结点"
   ]
  },
  {
   "cell_type": "code",
   "execution_count": 119,
   "metadata": {},
   "outputs": [],
   "source": [
    "# back propagation\n",
    "z.backward(retain_graph=True) # 注意，如果不清空梯度会累加起来\n"
   ]
  },
  {
   "cell_type": "code",
   "execution_count": 120,
   "metadata": {},
   "outputs": [
    {
     "data": {
      "text/plain": [
       "tensor([0.6309])"
      ]
     },
     "execution_count": 120,
     "metadata": {},
     "output_type": "execute_result"
    }
   ],
   "source": [
    "w.grad"
   ]
  },
  {
   "cell_type": "code",
   "execution_count": 121,
   "metadata": {},
   "outputs": [
    {
     "data": {
      "text/plain": [
       "tensor([1.])"
      ]
     },
     "execution_count": 121,
     "metadata": {},
     "output_type": "execute_result"
    }
   ],
   "source": [
    "b.grad"
   ]
  },
  {
   "cell_type": "markdown",
   "metadata": {},
   "source": [
    "线性回归试水"
   ]
  },
  {
   "cell_type": "code",
   "execution_count": 122,
   "metadata": {},
   "outputs": [
    {
     "data": {
      "text/plain": [
       "(11, 1)"
      ]
     },
     "execution_count": 122,
     "metadata": {},
     "output_type": "execute_result"
    }
   ],
   "source": [
    "# 构造一组输入数据X与对应的标签Y\n",
    "import numpy as np\n",
    "x_values = [i for i in range(11)]\n",
    "x_train  = np.array(x_values,dtype = np.float32)\n",
    "x_train = x_train.reshape(-1,1)\n",
    "x_train.shape"
   ]
  },
  {
   "cell_type": "code",
   "execution_count": 123,
   "metadata": {},
   "outputs": [
    {
     "data": {
      "text/plain": [
       "(11, 1)"
      ]
     },
     "execution_count": 123,
     "metadata": {},
     "output_type": "execute_result"
    }
   ],
   "source": [
    "import numpy as np\n",
    "y_values = [2*i+1 for i in range(11)]\n",
    "y_train = np.array(y_values,dtype=np.float32)\n",
    "y_train = y_train.reshape(-1,1)\n",
    "y_train.shape"
   ]
  },
  {
   "cell_type": "code",
   "execution_count": 124,
   "metadata": {},
   "outputs": [],
   "source": [
    "import torch \n",
    "import torch.nn as nn"
   ]
  },
  {
   "cell_type": "markdown",
   "metadata": {},
   "source": [
    "线性回归模型"
   ]
  },
  {
   "cell_type": "code",
   "execution_count": 125,
   "metadata": {},
   "outputs": [],
   "source": [
    "# 线性回归就是不添加激活函数的全连接层\n",
    "class LinearRegressionModel(nn.Module): # 定义了类的名字为LinearRegressionModel,继承了父类nn.Module\n",
    "    def __init__(self,input_dim,output_dim): # 实例self从父类继承属性input_dim,output_dim\n",
    "        super(LinearRegressionModel,self).__init__() # super,可以简单地理解为执行父类的__init__函数，\n",
    "        # 也就是初始化父类，这样才能访问父类的成员\n",
    "        self.linear = nn.Linear(input_dim,output_dim)\n",
    "        \n",
    "    def forward(self,x):\n",
    "        out = self.linear(x)\n",
    "        return out"
   ]
  },
  {
   "cell_type": "code",
   "execution_count": 126,
   "metadata": {},
   "outputs": [],
   "source": [
    "input_dim = 1\n",
    "output_dim = 1\n",
    "\n",
    "model = LinearRegressionModel(input_dim,output_dim,)"
   ]
  },
  {
   "cell_type": "code",
   "execution_count": 127,
   "metadata": {},
   "outputs": [
    {
     "data": {
      "text/plain": [
       "LinearRegressionModel(\n",
       "  (linear): Linear(in_features=1, out_features=1, bias=True)\n",
       ")"
      ]
     },
     "execution_count": 127,
     "metadata": {},
     "output_type": "execute_result"
    }
   ],
   "source": [
    "model"
   ]
  },
  {
   "cell_type": "code",
   "execution_count": 128,
   "metadata": {},
   "outputs": [],
   "source": [
    "# 制定好参数和损失函数\n",
    "epochs = 1000\n",
    "learning_rate = 0.01\n",
    "optimizer = torch.optim.SGD(model.parameters(),lr=learning_rate)\n",
    "criterion = nn.MSELoss()\n",
    "# 一般分类任务是交叉熵，回归任务mse，也就是mean square error"
   ]
  },
  {
   "cell_type": "code",
   "execution_count": 129,
   "metadata": {},
   "outputs": [
    {
     "name": "stdout",
     "output_type": "stream",
     "text": [
      "epoch 50,loss 0.32141411304473877\n",
      "epoch 100,loss 0.18332244455814362\n",
      "epoch 150,loss 0.10456030070781708\n",
      "epoch 200,loss 0.05963733419775963\n",
      "epoch 250,loss 0.03401493653655052\n",
      "epoch 300,loss 0.019400890916585922\n",
      "epoch 350,loss 0.011065570637583733\n",
      "epoch 400,loss 0.006311323028057814\n",
      "epoch 450,loss 0.0035997682716697454\n",
      "epoch 500,loss 0.002053179545328021\n",
      "epoch 550,loss 0.0011710585094988346\n",
      "epoch 600,loss 0.0006679356447421014\n",
      "epoch 650,loss 0.0003809648333117366\n",
      "epoch 700,loss 0.00021728742285631597\n",
      "epoch 750,loss 0.00012393204087857157\n",
      "epoch 800,loss 7.06881401129067e-05\n",
      "epoch 850,loss 4.031647404190153e-05\n",
      "epoch 900,loss 2.2995525796432048e-05\n",
      "epoch 950,loss 1.3116544323565904e-05\n",
      "epoch 1000,loss 7.480142812710255e-06\n"
     ]
    }
   ],
   "source": [
    "# 训练模型\n",
    "for epoch in range(epochs):\n",
    "    epoch+=1\n",
    "    # 注意转为tensor\n",
    "    inputs = torch.tensor(x_train)\n",
    "    labels = torch.tensor(y_train)\n",
    "    \n",
    "    # 梯度要清零每一次迭代\n",
    "    optimizer.zero_grad()\n",
    "    \n",
    "    # 前向传播\n",
    "    outputs = model(inputs)\n",
    "    \n",
    "    # 计算损失\n",
    "    loss = criterion(outputs,labels)\n",
    "    \n",
    "    # 返回传播\n",
    "    loss.backward()\n",
    "    \n",
    "    # 更新权重\n",
    "    optimizer.step()\n",
    "    \n",
    "    if epoch % 50 == 0:\n",
    "        print(\"epoch {},loss {}\".format(epoch,loss.item()))\n",
    "    \n",
    "    \n",
    "    "
   ]
  },
  {
   "cell_type": "code",
   "execution_count": 130,
   "metadata": {},
   "outputs": [
    {
     "data": {
      "text/plain": [
       "array([[ 0.99491215],\n",
       "       [ 2.995645  ],\n",
       "       [ 4.996378  ],\n",
       "       [ 6.997111  ],\n",
       "       [ 8.997844  ],\n",
       "       [10.998576  ],\n",
       "       [12.99931   ],\n",
       "       [15.000043  ],\n",
       "       [17.000774  ],\n",
       "       [19.001507  ],\n",
       "       [21.00224   ]], dtype=float32)"
      ]
     },
     "execution_count": 130,
     "metadata": {},
     "output_type": "execute_result"
    }
   ],
   "source": [
    "# 检测模型预测结果\n",
    "predicted = model(torch.from_numpy(x_train).requires_grad_()).data.numpy()\n",
    "predicted"
   ]
  },
  {
   "cell_type": "code",
   "execution_count": 131,
   "metadata": {},
   "outputs": [
    {
     "ename": "TypeError",
     "evalue": "'tuple' object does not support item assignment",
     "output_type": "error",
     "traceback": [
      "\u001b[1;31m---------------------------------------------------------------------------\u001b[0m",
      "\u001b[1;31mTypeError\u001b[0m                                 Traceback (most recent call last)",
      "\u001b[1;32mf:\\program\\pytorch\\PT_autograd.ipynb Cell 31\u001b[0m in \u001b[0;36m<cell line: 2>\u001b[1;34m()\u001b[0m\n\u001b[0;32m      <a href='vscode-notebook-cell:/f%3A/program/pytorch/PT_autograd.ipynb#X44sZmlsZQ%3D%3D?line=0'>1</a>\u001b[0m \u001b[39m# 模型的保存和读取\u001b[39;00m\n\u001b[1;32m----> <a href='vscode-notebook-cell:/f%3A/program/pytorch/PT_autograd.ipynb#X44sZmlsZQ%3D%3D?line=1'>2</a>\u001b[0m torch\u001b[39m.\u001b[39msave(model\u001b[39m.\u001b[39;49mstate_dict((),\u001b[39m\"\u001b[39;49m\u001b[39mmodel.pkl\u001b[39;49m\u001b[39m\"\u001b[39;49m))\n",
      "File \u001b[1;32me:\\download\\python\\lib\\site-packages\\torch\\nn\\modules\\module.py:1381\u001b[0m, in \u001b[0;36mModule.state_dict\u001b[1;34m(self, destination, prefix, keep_vars, *args)\u001b[0m\n\u001b[0;32m   1379\u001b[0m \u001b[39mfor\u001b[39;00m name, module \u001b[39min\u001b[39;00m \u001b[39mself\u001b[39m\u001b[39m.\u001b[39m_modules\u001b[39m.\u001b[39mitems():\n\u001b[0;32m   1380\u001b[0m     \u001b[39mif\u001b[39;00m module \u001b[39mis\u001b[39;00m \u001b[39mnot\u001b[39;00m \u001b[39mNone\u001b[39;00m:\n\u001b[1;32m-> 1381\u001b[0m         module\u001b[39m.\u001b[39;49mstate_dict(destination\u001b[39m=\u001b[39;49mdestination, prefix\u001b[39m=\u001b[39;49mprefix \u001b[39m+\u001b[39;49m name \u001b[39m+\u001b[39;49m \u001b[39m'\u001b[39;49m\u001b[39m.\u001b[39;49m\u001b[39m'\u001b[39;49m, keep_vars\u001b[39m=\u001b[39;49mkeep_vars)\n\u001b[0;32m   1382\u001b[0m \u001b[39mfor\u001b[39;00m hook \u001b[39min\u001b[39;00m \u001b[39mself\u001b[39m\u001b[39m.\u001b[39m_state_dict_hooks\u001b[39m.\u001b[39mvalues():\n\u001b[0;32m   1383\u001b[0m     hook_result \u001b[39m=\u001b[39m hook(\u001b[39mself\u001b[39m, destination, prefix, local_metadata)\n",
      "File \u001b[1;32me:\\download\\python\\lib\\site-packages\\torch\\nn\\modules\\module.py:1378\u001b[0m, in \u001b[0;36mModule.state_dict\u001b[1;34m(self, destination, prefix, keep_vars, *args)\u001b[0m\n\u001b[0;32m   1375\u001b[0m \u001b[39mif\u001b[39;00m \u001b[39mhasattr\u001b[39m(destination, \u001b[39m\"\u001b[39m\u001b[39m_metadata\u001b[39m\u001b[39m\"\u001b[39m):\n\u001b[0;32m   1376\u001b[0m     destination\u001b[39m.\u001b[39m_metadata[prefix[:\u001b[39m-\u001b[39m\u001b[39m1\u001b[39m]] \u001b[39m=\u001b[39m local_metadata\n\u001b[1;32m-> 1378\u001b[0m \u001b[39mself\u001b[39;49m\u001b[39m.\u001b[39;49m_save_to_state_dict(destination, prefix, keep_vars)\n\u001b[0;32m   1379\u001b[0m \u001b[39mfor\u001b[39;00m name, module \u001b[39min\u001b[39;00m \u001b[39mself\u001b[39m\u001b[39m.\u001b[39m_modules\u001b[39m.\u001b[39mitems():\n\u001b[0;32m   1380\u001b[0m     \u001b[39mif\u001b[39;00m module \u001b[39mis\u001b[39;00m \u001b[39mnot\u001b[39;00m \u001b[39mNone\u001b[39;00m:\n",
      "File \u001b[1;32me:\\download\\python\\lib\\site-packages\\torch\\nn\\modules\\module.py:1294\u001b[0m, in \u001b[0;36mModule._save_to_state_dict\u001b[1;34m(self, destination, prefix, keep_vars)\u001b[0m\n\u001b[0;32m   1292\u001b[0m \u001b[39mfor\u001b[39;00m name, param \u001b[39min\u001b[39;00m \u001b[39mself\u001b[39m\u001b[39m.\u001b[39m_parameters\u001b[39m.\u001b[39mitems():\n\u001b[0;32m   1293\u001b[0m     \u001b[39mif\u001b[39;00m param \u001b[39mis\u001b[39;00m \u001b[39mnot\u001b[39;00m \u001b[39mNone\u001b[39;00m:\n\u001b[1;32m-> 1294\u001b[0m         destination[prefix \u001b[39m+\u001b[39;49m name] \u001b[39m=\u001b[39m param \u001b[39mif\u001b[39;00m keep_vars \u001b[39melse\u001b[39;00m param\u001b[39m.\u001b[39mdetach()\n\u001b[0;32m   1295\u001b[0m \u001b[39mfor\u001b[39;00m name, buf \u001b[39min\u001b[39;00m \u001b[39mself\u001b[39m\u001b[39m.\u001b[39m_buffers\u001b[39m.\u001b[39mitems():\n\u001b[0;32m   1296\u001b[0m     \u001b[39mif\u001b[39;00m buf \u001b[39mis\u001b[39;00m \u001b[39mnot\u001b[39;00m \u001b[39mNone\u001b[39;00m \u001b[39mand\u001b[39;00m name \u001b[39mnot\u001b[39;00m \u001b[39min\u001b[39;00m \u001b[39mself\u001b[39m\u001b[39m.\u001b[39m_non_persistent_buffers_set:\n",
      "\u001b[1;31mTypeError\u001b[0m: 'tuple' object does not support item assignment"
     ]
    }
   ],
   "source": [
    "# 模型的保存和读取\n",
    "torch.save(model.state_dict((),\"model.pkl\"))"
   ]
  }
 ],
 "metadata": {
  "kernelspec": {
   "display_name": "Python 3.10.6 64-bit",
   "language": "python",
   "name": "python3"
  },
  "language_info": {
   "codemirror_mode": {
    "name": "ipython",
    "version": 3
   },
   "file_extension": ".py",
   "mimetype": "text/x-python",
   "name": "python",
   "nbconvert_exporter": "python",
   "pygments_lexer": "ipython3",
   "version": "3.10.6"
  },
  "orig_nbformat": 4,
  "vscode": {
   "interpreter": {
    "hash": "e12f081f3b69c47b407a411e35ba4814a2bf694e6a041dab3adb1673ea66113c"
   }
  }
 },
 "nbformat": 4,
 "nbformat_minor": 2
}
